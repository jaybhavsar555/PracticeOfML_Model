{
 "cells": [
  {
   "cell_type": "markdown",
   "id": "fc870663",
   "metadata": {
    "papermill": {
     "duration": 0.004233,
     "end_time": "2022-12-23T15:25:22.829622",
     "exception": false,
     "start_time": "2022-12-23T15:25:22.825389",
     "status": "completed"
    },
    "tags": []
   },
   "source": [
    "### Developing and implementing Decision Tree Model on the dataset"
   ]
  },
  {
   "cell_type": "code",
   "execution_count": 1,
   "id": "93419693",
   "metadata": {
    "execution": {
     "iopub.execute_input": "2022-12-23T15:25:22.839312Z",
     "iopub.status.busy": "2022-12-23T15:25:22.838821Z",
     "iopub.status.idle": "2022-12-23T15:25:22.851018Z",
     "shell.execute_reply": "2022-12-23T15:25:22.849360Z"
    },
    "papermill": {
     "duration": 0.02018,
     "end_time": "2022-12-23T15:25:22.853869",
     "exception": false,
     "start_time": "2022-12-23T15:25:22.833689",
     "status": "completed"
    },
    "tags": []
   },
   "outputs": [],
   "source": [
    "import numpy as np\n",
    "import matplotlib.pyplot as plt\n",
    "import pandas as pd"
   ]
  },
  {
   "cell_type": "code",
   "execution_count": 2,
   "id": "a45b6880",
   "metadata": {
    "execution": {
     "iopub.execute_input": "2022-12-23T15:25:22.862904Z",
     "iopub.status.busy": "2022-12-23T15:25:22.862311Z",
     "iopub.status.idle": "2022-12-23T15:25:22.883303Z",
     "shell.execute_reply": "2022-12-23T15:25:22.881697Z"
    },
    "papermill": {
     "duration": 0.029088,
     "end_time": "2022-12-23T15:25:22.886301",
     "exception": false,
     "start_time": "2022-12-23T15:25:22.857213",
     "status": "completed"
    },
    "tags": []
   },
   "outputs": [],
   "source": [
    "data=pd.read_csv('/kaggle/input/salary-datacsv/Salary_Data.csv')"
   ]
  },
  {
   "cell_type": "code",
   "execution_count": 3,
   "id": "ac4894e9",
   "metadata": {
    "execution": {
     "iopub.execute_input": "2022-12-23T15:25:22.895895Z",
     "iopub.status.busy": "2022-12-23T15:25:22.894579Z",
     "iopub.status.idle": "2022-12-23T15:25:22.926822Z",
     "shell.execute_reply": "2022-12-23T15:25:22.925061Z"
    },
    "papermill": {
     "duration": 0.04095,
     "end_time": "2022-12-23T15:25:22.930617",
     "exception": false,
     "start_time": "2022-12-23T15:25:22.889667",
     "status": "completed"
    },
    "tags": []
   },
   "outputs": [
    {
     "data": {
      "text/html": [
       "<div>\n",
       "<style scoped>\n",
       "    .dataframe tbody tr th:only-of-type {\n",
       "        vertical-align: middle;\n",
       "    }\n",
       "\n",
       "    .dataframe tbody tr th {\n",
       "        vertical-align: top;\n",
       "    }\n",
       "\n",
       "    .dataframe thead th {\n",
       "        text-align: right;\n",
       "    }\n",
       "</style>\n",
       "<table border=\"1\" class=\"dataframe\">\n",
       "  <thead>\n",
       "    <tr style=\"text-align: right;\">\n",
       "      <th></th>\n",
       "      <th>YearsExperience</th>\n",
       "      <th>Salary</th>\n",
       "    </tr>\n",
       "  </thead>\n",
       "  <tbody>\n",
       "    <tr>\n",
       "      <th>0</th>\n",
       "      <td>1.1</td>\n",
       "      <td>39343.0</td>\n",
       "    </tr>\n",
       "    <tr>\n",
       "      <th>1</th>\n",
       "      <td>1.3</td>\n",
       "      <td>46205.0</td>\n",
       "    </tr>\n",
       "    <tr>\n",
       "      <th>2</th>\n",
       "      <td>1.5</td>\n",
       "      <td>37731.0</td>\n",
       "    </tr>\n",
       "    <tr>\n",
       "      <th>3</th>\n",
       "      <td>2.0</td>\n",
       "      <td>43525.0</td>\n",
       "    </tr>\n",
       "    <tr>\n",
       "      <th>4</th>\n",
       "      <td>2.2</td>\n",
       "      <td>39891.0</td>\n",
       "    </tr>\n",
       "  </tbody>\n",
       "</table>\n",
       "</div>"
      ],
      "text/plain": [
       "   YearsExperience   Salary\n",
       "0              1.1  39343.0\n",
       "1              1.3  46205.0\n",
       "2              1.5  37731.0\n",
       "3              2.0  43525.0\n",
       "4              2.2  39891.0"
      ]
     },
     "execution_count": 3,
     "metadata": {},
     "output_type": "execute_result"
    }
   ],
   "source": [
    "data.head()"
   ]
  },
  {
   "cell_type": "code",
   "execution_count": 4,
   "id": "82b96682",
   "metadata": {
    "execution": {
     "iopub.execute_input": "2022-12-23T15:25:22.939265Z",
     "iopub.status.busy": "2022-12-23T15:25:22.938839Z",
     "iopub.status.idle": "2022-12-23T15:25:22.952251Z",
     "shell.execute_reply": "2022-12-23T15:25:22.950978Z"
    },
    "papermill": {
     "duration": 0.020923,
     "end_time": "2022-12-23T15:25:22.955035",
     "exception": false,
     "start_time": "2022-12-23T15:25:22.934112",
     "status": "completed"
    },
    "tags": []
   },
   "outputs": [],
   "source": [
    "X=data[['YearsExperience']]\n",
    "y=data['Salary']"
   ]
  },
  {
   "cell_type": "code",
   "execution_count": 5,
   "id": "afcccad4",
   "metadata": {
    "execution": {
     "iopub.execute_input": "2022-12-23T15:25:22.963641Z",
     "iopub.status.busy": "2022-12-23T15:25:22.963179Z",
     "iopub.status.idle": "2022-12-23T15:25:24.214124Z",
     "shell.execute_reply": "2022-12-23T15:25:24.212671Z"
    },
    "papermill": {
     "duration": 1.258596,
     "end_time": "2022-12-23T15:25:24.217248",
     "exception": false,
     "start_time": "2022-12-23T15:25:22.958652",
     "status": "completed"
    },
    "tags": []
   },
   "outputs": [],
   "source": [
    "from sklearn.tree import DecisionTreeRegressor\n",
    "regressor = DecisionTreeRegressor(random_state=0)\n"
   ]
  },
  {
   "cell_type": "code",
   "execution_count": 6,
   "id": "310febe2",
   "metadata": {
    "execution": {
     "iopub.execute_input": "2022-12-23T15:25:24.226950Z",
     "iopub.status.busy": "2022-12-23T15:25:24.226496Z",
     "iopub.status.idle": "2022-12-23T15:25:24.240121Z",
     "shell.execute_reply": "2022-12-23T15:25:24.238704Z"
    },
    "papermill": {
     "duration": 0.022476,
     "end_time": "2022-12-23T15:25:24.243294",
     "exception": false,
     "start_time": "2022-12-23T15:25:24.220818",
     "status": "completed"
    },
    "tags": []
   },
   "outputs": [
    {
     "data": {
      "text/plain": [
       "DecisionTreeRegressor(random_state=0)"
      ]
     },
     "execution_count": 6,
     "metadata": {},
     "output_type": "execute_result"
    }
   ],
   "source": [
    "regressor.fit(X,y)"
   ]
  },
  {
   "cell_type": "code",
   "execution_count": 7,
   "id": "2b0b7ad8",
   "metadata": {
    "execution": {
     "iopub.execute_input": "2022-12-23T15:25:24.254313Z",
     "iopub.status.busy": "2022-12-23T15:25:24.253308Z",
     "iopub.status.idle": "2022-12-23T15:25:24.266202Z",
     "shell.execute_reply": "2022-12-23T15:25:24.264723Z"
    },
    "papermill": {
     "duration": 0.021702,
     "end_time": "2022-12-23T15:25:24.269096",
     "exception": false,
     "start_time": "2022-12-23T15:25:24.247394",
     "status": "completed"
    },
    "tags": []
   },
   "outputs": [
    {
     "name": "stderr",
     "output_type": "stream",
     "text": [
      "/opt/conda/lib/python3.7/site-packages/sklearn/base.py:451: UserWarning: X does not have valid feature names, but DecisionTreeRegressor was fitted with feature names\n",
      "  \"X does not have valid feature names, but\"\n"
     ]
    },
    {
     "data": {
      "text/plain": [
       "array([91738.])"
      ]
     },
     "execution_count": 7,
     "metadata": {},
     "output_type": "execute_result"
    }
   ],
   "source": [
    "regressor.predict([[6.5]])"
   ]
  },
  {
   "cell_type": "code",
   "execution_count": null,
   "id": "f5522d6d",
   "metadata": {
    "papermill": {
     "duration": 0.003705,
     "end_time": "2022-12-23T15:25:24.276753",
     "exception": false,
     "start_time": "2022-12-23T15:25:24.273048",
     "status": "completed"
    },
    "tags": []
   },
   "outputs": [],
   "source": []
  }
 ],
 "metadata": {
  "kernelspec": {
   "display_name": "Python 3",
   "language": "python",
   "name": "python3"
  },
  "language_info": {
   "codemirror_mode": {
    "name": "ipython",
    "version": 3
   },
   "file_extension": ".py",
   "mimetype": "text/x-python",
   "name": "python",
   "nbconvert_exporter": "python",
   "pygments_lexer": "ipython3",
   "version": "3.7.12"
  },
  "papermill": {
   "default_parameters": {},
   "duration": 12.224668,
   "end_time": "2022-12-23T15:25:25.104713",
   "environment_variables": {},
   "exception": null,
   "input_path": "__notebook__.ipynb",
   "output_path": "__notebook__.ipynb",
   "parameters": {},
   "start_time": "2022-12-23T15:25:12.880045",
   "version": "2.3.4"
  }
 },
 "nbformat": 4,
 "nbformat_minor": 5
}
