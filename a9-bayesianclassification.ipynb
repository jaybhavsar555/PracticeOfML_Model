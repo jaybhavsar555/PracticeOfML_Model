{
 "cells": [
  {
   "cell_type": "markdown",
   "id": "df9907f8",
   "metadata": {
    "papermill": {
     "duration": 0.004077,
     "end_time": "2022-12-23T15:17:40.653854",
     "exception": false,
     "start_time": "2022-12-23T15:17:40.649777",
     "status": "completed"
    },
    "tags": []
   },
   "source": [
    "### Bayesian Classification on any dataset"
   ]
  },
  {
   "cell_type": "code",
   "execution_count": 1,
   "id": "32086353",
   "metadata": {
    "execution": {
     "iopub.execute_input": "2022-12-23T15:17:40.662418Z",
     "iopub.status.busy": "2022-12-23T15:17:40.661862Z",
     "iopub.status.idle": "2022-12-23T15:17:40.668969Z",
     "shell.execute_reply": "2022-12-23T15:17:40.668434Z"
    },
    "papermill": {
     "duration": 0.013587,
     "end_time": "2022-12-23T15:17:40.670833",
     "exception": false,
     "start_time": "2022-12-23T15:17:40.657246",
     "status": "completed"
    },
    "tags": []
   },
   "outputs": [],
   "source": [
    "import numpy as np\n",
    "import pandas as pd\n",
    "import matplotlib.pyplot as plt"
   ]
  },
  {
   "cell_type": "code",
   "execution_count": 2,
   "id": "4f753c45",
   "metadata": {
    "execution": {
     "iopub.execute_input": "2022-12-23T15:17:40.678881Z",
     "iopub.status.busy": "2022-12-23T15:17:40.678501Z",
     "iopub.status.idle": "2022-12-23T15:17:40.700835Z",
     "shell.execute_reply": "2022-12-23T15:17:40.700077Z"
    },
    "papermill": {
     "duration": 0.028327,
     "end_time": "2022-12-23T15:17:40.702729",
     "exception": false,
     "start_time": "2022-12-23T15:17:40.674402",
     "status": "completed"
    },
    "tags": []
   },
   "outputs": [],
   "source": [
    "df=pd.read_csv('/kaggle/input/iris-dataset/iris.data.csv')"
   ]
  },
  {
   "cell_type": "code",
   "execution_count": 3,
   "id": "2fff3012",
   "metadata": {
    "execution": {
     "iopub.execute_input": "2022-12-23T15:17:40.711250Z",
     "iopub.status.busy": "2022-12-23T15:17:40.710406Z",
     "iopub.status.idle": "2022-12-23T15:17:40.715771Z",
     "shell.execute_reply": "2022-12-23T15:17:40.714645Z"
    },
    "papermill": {
     "duration": 0.011105,
     "end_time": "2022-12-23T15:17:40.717326",
     "exception": false,
     "start_time": "2022-12-23T15:17:40.706221",
     "status": "completed"
    },
    "tags": []
   },
   "outputs": [],
   "source": [
    "df.columns=['sepal_length','sepal_width','petal_length','petal_width','species']"
   ]
  },
  {
   "cell_type": "code",
   "execution_count": 4,
   "id": "e9442ddb",
   "metadata": {
    "execution": {
     "iopub.execute_input": "2022-12-23T15:17:40.725291Z",
     "iopub.status.busy": "2022-12-23T15:17:40.724839Z",
     "iopub.status.idle": "2022-12-23T15:17:40.727989Z",
     "shell.execute_reply": "2022-12-23T15:17:40.727552Z"
    },
    "papermill": {
     "duration": 0.008665,
     "end_time": "2022-12-23T15:17:40.729337",
     "exception": false,
     "start_time": "2022-12-23T15:17:40.720672",
     "status": "completed"
    },
    "tags": []
   },
   "outputs": [],
   "source": [
    "col_names=list(df.columns)\n",
    "predictors=col_names[0:4]\n",
    "target=col_names[4]"
   ]
  },
  {
   "cell_type": "code",
   "execution_count": 5,
   "id": "5e4daf48",
   "metadata": {
    "execution": {
     "iopub.execute_input": "2022-12-23T15:17:40.738134Z",
     "iopub.status.busy": "2022-12-23T15:17:40.737604Z",
     "iopub.status.idle": "2022-12-23T15:17:41.613045Z",
     "shell.execute_reply": "2022-12-23T15:17:41.612410Z"
    },
    "papermill": {
     "duration": 0.882242,
     "end_time": "2022-12-23T15:17:41.615087",
     "exception": false,
     "start_time": "2022-12-23T15:17:40.732845",
     "status": "completed"
    },
    "tags": []
   },
   "outputs": [],
   "source": [
    "from sklearn.model_selection import train_test_split\n",
    "train,test=train_test_split(df,test_size=0.3,random_state=0)"
   ]
  },
  {
   "cell_type": "markdown",
   "id": "8585fae5",
   "metadata": {
    "papermill": {
     "duration": 0.003277,
     "end_time": "2022-12-23T15:17:41.622391",
     "exception": false,
     "start_time": "2022-12-23T15:17:41.619114",
     "status": "completed"
    },
    "tags": []
   },
   "source": [
    "###### Gaussian Naive Bayes"
   ]
  },
  {
   "cell_type": "code",
   "execution_count": 6,
   "id": "0bbab694",
   "metadata": {
    "execution": {
     "iopub.execute_input": "2022-12-23T15:17:41.630836Z",
     "iopub.status.busy": "2022-12-23T15:17:41.630377Z",
     "iopub.status.idle": "2022-12-23T15:17:41.649083Z",
     "shell.execute_reply": "2022-12-23T15:17:41.647928Z"
    },
    "papermill": {
     "duration": 0.0256,
     "end_time": "2022-12-23T15:17:41.651409",
     "exception": false,
     "start_time": "2022-12-23T15:17:41.625809",
     "status": "completed"
    },
    "tags": []
   },
   "outputs": [],
   "source": [
    "from sklearn.naive_bayes import GaussianNB\n",
    "Gmodel=GaussianNB()\n",
    "Gmodel.fit(train[predictors],train[target])\n",
    "train_Gpred=Gmodel.predict(train[predictors])\n",
    "test_Gpred=Gmodel.predict(test[predictors])\n"
   ]
  },
  {
   "cell_type": "code",
   "execution_count": 7,
   "id": "dac2827f",
   "metadata": {
    "execution": {
     "iopub.execute_input": "2022-12-23T15:17:41.660146Z",
     "iopub.status.busy": "2022-12-23T15:17:41.659856Z",
     "iopub.status.idle": "2022-12-23T15:17:41.665091Z",
     "shell.execute_reply": "2022-12-23T15:17:41.664039Z"
    },
    "papermill": {
     "duration": 0.011821,
     "end_time": "2022-12-23T15:17:41.667065",
     "exception": false,
     "start_time": "2022-12-23T15:17:41.655244",
     "status": "completed"
    },
    "tags": []
   },
   "outputs": [],
   "source": [
    "train_acc_gau=np.mean(train_Gpred==train[target])\n",
    "test_acc_gau=np.mean(test_Gpred==test[target])"
   ]
  },
  {
   "cell_type": "code",
   "execution_count": 8,
   "id": "e70e0382",
   "metadata": {
    "execution": {
     "iopub.execute_input": "2022-12-23T15:17:41.675208Z",
     "iopub.status.busy": "2022-12-23T15:17:41.674821Z",
     "iopub.status.idle": "2022-12-23T15:17:41.682503Z",
     "shell.execute_reply": "2022-12-23T15:17:41.681441Z"
    },
    "papermill": {
     "duration": 0.013894,
     "end_time": "2022-12-23T15:17:41.684497",
     "exception": false,
     "start_time": "2022-12-23T15:17:41.670603",
     "status": "completed"
    },
    "tags": []
   },
   "outputs": [
    {
     "data": {
      "text/plain": [
       "0.9903846153846154"
      ]
     },
     "execution_count": 8,
     "metadata": {},
     "output_type": "execute_result"
    }
   ],
   "source": [
    "train_acc_gau\n"
   ]
  },
  {
   "cell_type": "code",
   "execution_count": 9,
   "id": "aca18bcd",
   "metadata": {
    "execution": {
     "iopub.execute_input": "2022-12-23T15:17:41.693367Z",
     "iopub.status.busy": "2022-12-23T15:17:41.692656Z",
     "iopub.status.idle": "2022-12-23T15:17:41.697405Z",
     "shell.execute_reply": "2022-12-23T15:17:41.696742Z"
    },
    "papermill": {
     "duration": 0.010778,
     "end_time": "2022-12-23T15:17:41.699057",
     "exception": false,
     "start_time": "2022-12-23T15:17:41.688279",
     "status": "completed"
    },
    "tags": []
   },
   "outputs": [
    {
     "data": {
      "text/plain": [
       "0.8888888888888888"
      ]
     },
     "execution_count": 9,
     "metadata": {},
     "output_type": "execute_result"
    }
   ],
   "source": [
    "test_acc_gau"
   ]
  },
  {
   "cell_type": "markdown",
   "id": "15073ec0",
   "metadata": {
    "papermill": {
     "duration": 0.003416,
     "end_time": "2022-12-23T15:17:41.706207",
     "exception": false,
     "start_time": "2022-12-23T15:17:41.702791",
     "status": "completed"
    },
    "tags": []
   },
   "source": [
    "###### Multinomial Naive Bayes"
   ]
  },
  {
   "cell_type": "code",
   "execution_count": 10,
   "id": "48f6ec3a",
   "metadata": {
    "execution": {
     "iopub.execute_input": "2022-12-23T15:17:41.715316Z",
     "iopub.status.busy": "2022-12-23T15:17:41.714783Z",
     "iopub.status.idle": "2022-12-23T15:17:41.729578Z",
     "shell.execute_reply": "2022-12-23T15:17:41.728440Z"
    },
    "papermill": {
     "duration": 0.022092,
     "end_time": "2022-12-23T15:17:41.731891",
     "exception": false,
     "start_time": "2022-12-23T15:17:41.709799",
     "status": "completed"
    },
    "tags": []
   },
   "outputs": [],
   "source": [
    "from sklearn.naive_bayes import MultinomialNB\n",
    "Mmodel=MultinomialNB()\n",
    "Mmodel.fit(train[predictors],train[target])\n",
    "train_Mpred=Mmodel.predict(train[predictors])\n",
    "test_Mpred=Mmodel.predict(test[predictors])"
   ]
  },
  {
   "cell_type": "code",
   "execution_count": 11,
   "id": "050261ed",
   "metadata": {
    "execution": {
     "iopub.execute_input": "2022-12-23T15:17:41.740549Z",
     "iopub.status.busy": "2022-12-23T15:17:41.740253Z",
     "iopub.status.idle": "2022-12-23T15:17:41.746440Z",
     "shell.execute_reply": "2022-12-23T15:17:41.745008Z"
    },
    "papermill": {
     "duration": 0.013051,
     "end_time": "2022-12-23T15:17:41.748625",
     "exception": false,
     "start_time": "2022-12-23T15:17:41.735574",
     "status": "completed"
    },
    "tags": []
   },
   "outputs": [],
   "source": [
    "train_acc_multi=np.mean(train_Mpred==train[target])\n",
    "test_acc_multi=np.mean(test_Mpred==test[target])"
   ]
  },
  {
   "cell_type": "code",
   "execution_count": 12,
   "id": "ba05fff5",
   "metadata": {
    "execution": {
     "iopub.execute_input": "2022-12-23T15:17:41.758078Z",
     "iopub.status.busy": "2022-12-23T15:17:41.757791Z",
     "iopub.status.idle": "2022-12-23T15:17:41.763246Z",
     "shell.execute_reply": "2022-12-23T15:17:41.762504Z"
    },
    "papermill": {
     "duration": 0.012223,
     "end_time": "2022-12-23T15:17:41.765310",
     "exception": false,
     "start_time": "2022-12-23T15:17:41.753087",
     "status": "completed"
    },
    "tags": []
   },
   "outputs": [
    {
     "data": {
      "text/plain": [
       "0.8461538461538461"
      ]
     },
     "execution_count": 12,
     "metadata": {},
     "output_type": "execute_result"
    }
   ],
   "source": [
    "train_acc_multi"
   ]
  },
  {
   "cell_type": "code",
   "execution_count": 13,
   "id": "db0458d4",
   "metadata": {
    "execution": {
     "iopub.execute_input": "2022-12-23T15:17:41.775808Z",
     "iopub.status.busy": "2022-12-23T15:17:41.774990Z",
     "iopub.status.idle": "2022-12-23T15:17:41.780559Z",
     "shell.execute_reply": "2022-12-23T15:17:41.779946Z"
    },
    "papermill": {
     "duration": 0.012704,
     "end_time": "2022-12-23T15:17:41.782546",
     "exception": false,
     "start_time": "2022-12-23T15:17:41.769842",
     "status": "completed"
    },
    "tags": []
   },
   "outputs": [
    {
     "data": {
      "text/plain": [
       "0.8888888888888888"
      ]
     },
     "execution_count": 13,
     "metadata": {},
     "output_type": "execute_result"
    }
   ],
   "source": [
    "test_acc_multi"
   ]
  },
  {
   "cell_type": "code",
   "execution_count": null,
   "id": "a78d275d",
   "metadata": {
    "papermill": {
     "duration": 0.00396,
     "end_time": "2022-12-23T15:17:41.790821",
     "exception": false,
     "start_time": "2022-12-23T15:17:41.786861",
     "status": "completed"
    },
    "tags": []
   },
   "outputs": [],
   "source": []
  }
 ],
 "metadata": {
  "kernelspec": {
   "display_name": "Python 3",
   "language": "python",
   "name": "python3"
  },
  "language_info": {
   "codemirror_mode": {
    "name": "ipython",
    "version": 3
   },
   "file_extension": ".py",
   "mimetype": "text/x-python",
   "name": "python",
   "nbconvert_exporter": "python",
   "pygments_lexer": "ipython3",
   "version": "3.7.12"
  },
  "papermill": {
   "default_parameters": {},
   "duration": 8.466196,
   "end_time": "2022-12-23T15:17:42.415406",
   "environment_variables": {},
   "exception": null,
   "input_path": "__notebook__.ipynb",
   "output_path": "__notebook__.ipynb",
   "parameters": {},
   "start_time": "2022-12-23T15:17:33.949210",
   "version": "2.3.4"
  }
 },
 "nbformat": 4,
 "nbformat_minor": 5
}
